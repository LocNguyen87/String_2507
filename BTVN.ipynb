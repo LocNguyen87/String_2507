{
 "cells": [
  {
   "cell_type": "code",
   "execution_count": 2,
   "id": "7d38d115",
   "metadata": {},
   "outputs": [
    {
     "name": "stdout",
     "output_type": "stream",
     "text": [
      "Nhập họ tên:           nGuYễn lâM BẢo      lỘc    \n",
      "Nguyễn Lâm Bảo      Lộc\n"
     ]
    }
   ],
   "source": [
    "# Bài 1: Nhập vào họ tên của một người (Giả sử chỉ có 3 chữ). \n",
    "# In họ tên người đó ra màn hình dưới dạng chuẩn\n",
    "\n",
    "name = input('Nhập họ tên: ')\n",
    "print(name.lower().strip().title())"
   ]
  },
  {
   "cell_type": "code",
   "execution_count": 1,
   "id": "bd64ad18",
   "metadata": {},
   "outputs": [
    {
     "name": "stdout",
     "output_type": "stream",
     "text": [
      "Nhập chuỗi: dar236d a06565asda ds223185147 adadayrt\n",
      "Tổng các chữ số chẵn là  30\n",
      "Tổng các chữ số lẻ là  36\n"
     ]
    }
   ],
   "source": [
    "# Bài 2: Nhập vào một chuỗi gồm các chữ cái và chữ số. \n",
    "# Tính tổng các chữ số chẵn, lẻ trong chuỗi.\n",
    "text = input('Nhập chuỗi: ')\n",
    "\n",
    "oddtotal = 0\n",
    "oddtotal += text.count('1')*1\n",
    "oddtotal += text.count('3')*3\n",
    "oddtotal += text.count('5')*5\n",
    "oddtotal += text.count('7')*7\n",
    "oddtotal += text.count('9')*9\n",
    "\n",
    "eventotal = 0\n",
    "eventotal += text.count('2')*2\n",
    "eventotal += text.count('4')*4\n",
    "eventotal += text.count('6')*6\n",
    "eventotal += text.count('8')*8\n",
    "\n",
    "print('Tổng các chữ số chẵn là ', oddtotal)\n",
    "print('Tổng các chữ số lẻ là ', eventotal)"
   ]
  },
  {
   "cell_type": "code",
   "execution_count": null,
   "id": "6b3f3df3",
   "metadata": {},
   "outputs": [],
   "source": []
  }
 ],
 "metadata": {
  "kernelspec": {
   "display_name": "Python 3 (ipykernel)",
   "language": "python",
   "name": "python3"
  },
  "language_info": {
   "codemirror_mode": {
    "name": "ipython",
    "version": 3
   },
   "file_extension": ".py",
   "mimetype": "text/x-python",
   "name": "python",
   "nbconvert_exporter": "python",
   "pygments_lexer": "ipython3",
   "version": "3.9.12"
  }
 },
 "nbformat": 4,
 "nbformat_minor": 5
}
