{
 "cells": [
  {
   "cell_type": "code",
   "execution_count": 9,
   "id": "39988afb",
   "metadata": {},
   "outputs": [
    {
     "name": "stdout",
     "output_type": "stream",
     "text": [
      "Nhập vào chuỗi: ppppppp\n",
      "1. Chuỗi không có chứa nguyên âm \n",
      "2. Số lượng nguyên âm là: 0\n",
      "3. Số lượng ký tự là chữ số: 0\n"
     ]
    }
   ],
   "source": [
    "# Nhập vào 1 chuỗi\n",
    "# 1. Kiểm tra chuỗi đó có chứa ký tự nguyên âm hay không?\n",
    "# 2. Đếm xem trong chuỗi vừa nhập có bao nhiêu nguyên âm? ueoai\n",
    "# 3. Có bao nhiêu ký tự là chữ số?\n",
    "\n",
    "text  = input('Nhập vào chuỗi: ').lower()\n",
    "digit = 0\n",
    "count = 0\n",
    "\n",
    "if('a' in text or 'e' in text or 'o' in text or 'u' in text or 'i' in text):\n",
    "    print('1. Chuỗi có chứa nguyên âm')\n",
    "    count = text.count('a')\n",
    "    count += text.count('e')\n",
    "    count += text.count('o')\n",
    "    count += text.count('u')\n",
    "    count += text.count('i')\n",
    "    print('2. Số lượng nguyên âm là: ', count)\n",
    "else:\n",
    "    print('1. Chuỗi không có chứa nguyên âm \\n2. Số lượng nguyên âm là: 0')\n",
    "    \n",
    "digit  = text.count('0')\n",
    "digit += text.count('1')\n",
    "digit += text.count('2')\n",
    "digit += text.count('3')\n",
    "digit += text.count('4')\n",
    "digit += text.count('5')\n",
    "digit += text.count('6')\n",
    "digit += text.count('7')\n",
    "digit += text.count('8')\n",
    "digit += text.count('9')\n",
    "\n",
    "print('3. Số lượng ký tự là chữ số:' , digit)"
   ]
  },
  {
   "cell_type": "code",
   "execution_count": null,
   "id": "337df68a",
   "metadata": {},
   "outputs": [],
   "source": []
  },
  {
   "cell_type": "code",
   "execution_count": null,
   "id": "d27c1ba4",
   "metadata": {},
   "outputs": [],
   "source": []
  }
 ],
 "metadata": {
  "kernelspec": {
   "display_name": "Python 3 (ipykernel)",
   "language": "python",
   "name": "python3"
  },
  "language_info": {
   "codemirror_mode": {
    "name": "ipython",
    "version": 3
   },
   "file_extension": ".py",
   "mimetype": "text/x-python",
   "name": "python",
   "nbconvert_exporter": "python",
   "pygments_lexer": "ipython3",
   "version": "3.9.12"
  }
 },
 "nbformat": 4,
 "nbformat_minor": 5
}
